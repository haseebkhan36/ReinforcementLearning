{
 "cells": [
  {
   "cell_type": "markdown",
   "id": "c30bcf57",
   "metadata": {},
   "source": [
    "### Agent and Environment Sample code"
   ]
  },
  {
   "cell_type": "code",
   "execution_count": 3,
   "id": "fce3ac66",
   "metadata": {},
   "outputs": [],
   "source": [
    "import random \n",
    "from typing import List \n",
    "\n",
    "#Environment class : It's a model of the world that is external to the agent.It provides observations and rewards to agent.\n",
    "class SampleEnvironment:\n",
    "    def __init__(self):\n",
    "        self.step_left =20 \n",
    "        \n",
    "    def get_observations(self)->List[float]:\n",
    "        return [0.0, 0.0, 0.0]\n",
    "    \n",
    "    def get_actions(self)->List[int]:\n",
    "        return [0,1]\n",
    "    \n",
    "    def is_done(self)->bool:\n",
    "        return self.step_left==0\n",
    "    \n",
    "    def action(self, action: int) ->float:\n",
    "        if self.is_done():\n",
    "            raise Exception(\"Game Over\")\n",
    "        self.step_left -=1\n",
    "        return random.random()"
   ]
  },
  {
   "cell_type": "code",
   "execution_count": 11,
   "id": "c55bb9e6",
   "metadata": {},
   "outputs": [
    {
     "data": {
      "text/plain": [
       "1"
      ]
     },
     "execution_count": 11,
     "metadata": {},
     "output_type": "execute_result"
    }
   ],
   "source": [
    "random.choice([0,1])"
   ]
  },
  {
   "cell_type": "code",
   "execution_count": 14,
   "id": "f1ea8668",
   "metadata": {},
   "outputs": [],
   "source": [
    "class Agent:\n",
    "    def __init__(self):\n",
    "        self.total_reward=0.0\n",
    "        \n",
    "    def step(self, env: SampleEnvironment):\n",
    "        current_obs = env.get_observations()\n",
    "        print(\"Observation  {}\".format(current_obs))\n",
    "        actions = env.get_actions()\n",
    "        print(actions)\n",
    "        reward = env.action(random.choice(actions))\n",
    "        self.total_reward += reward\n",
    "        print(\"Total reward {}\".format(self.total_reward))"
   ]
  },
  {
   "cell_type": "code",
   "execution_count": 15,
   "id": "9f6f7bfc",
   "metadata": {},
   "outputs": [
    {
     "name": "stdout",
     "output_type": "stream",
     "text": [
      "Steps 1\n",
      "Observation  [0.0, 0.0, 0.0]\n",
      "[0, 1]\n",
      "Total reward 0.7800608916017715\n",
      "Steps 2\n",
      "Observation  [0.0, 0.0, 0.0]\n",
      "[0, 1]\n",
      "Total reward 1.2538401542537638\n",
      "Steps 3\n",
      "Observation  [0.0, 0.0, 0.0]\n",
      "[0, 1]\n",
      "Total reward 1.891453853023426\n",
      "Steps 4\n",
      "Observation  [0.0, 0.0, 0.0]\n",
      "[0, 1]\n",
      "Total reward 2.6434020758314447\n",
      "Steps 5\n",
      "Observation  [0.0, 0.0, 0.0]\n",
      "[0, 1]\n",
      "Total reward 2.9869461474935974\n",
      "Steps 6\n",
      "Observation  [0.0, 0.0, 0.0]\n",
      "[0, 1]\n",
      "Total reward 3.332802619295926\n",
      "Steps 7\n",
      "Observation  [0.0, 0.0, 0.0]\n",
      "[0, 1]\n",
      "Total reward 3.834338642103534\n",
      "Steps 8\n",
      "Observation  [0.0, 0.0, 0.0]\n",
      "[0, 1]\n",
      "Total reward 4.474260488784861\n",
      "Steps 9\n",
      "Observation  [0.0, 0.0, 0.0]\n",
      "[0, 1]\n",
      "Total reward 5.304996973763658\n",
      "Steps 10\n",
      "Observation  [0.0, 0.0, 0.0]\n",
      "[0, 1]\n",
      "Total reward 5.746899961871776\n",
      "Steps 11\n",
      "Observation  [0.0, 0.0, 0.0]\n",
      "[0, 1]\n",
      "Total reward 6.568128924714336\n",
      "Steps 12\n",
      "Observation  [0.0, 0.0, 0.0]\n",
      "[0, 1]\n",
      "Total reward 7.505864623142575\n",
      "Steps 13\n",
      "Observation  [0.0, 0.0, 0.0]\n",
      "[0, 1]\n",
      "Total reward 8.209396369159842\n",
      "Steps 14\n",
      "Observation  [0.0, 0.0, 0.0]\n",
      "[0, 1]\n",
      "Total reward 8.357799853131826\n",
      "Steps 15\n",
      "Observation  [0.0, 0.0, 0.0]\n",
      "[0, 1]\n",
      "Total reward 9.250935261056519\n",
      "Steps 16\n",
      "Observation  [0.0, 0.0, 0.0]\n",
      "[0, 1]\n",
      "Total reward 9.942701083382085\n",
      "Steps 17\n",
      "Observation  [0.0, 0.0, 0.0]\n",
      "[0, 1]\n",
      "Total reward 10.462864322424672\n",
      "Steps 18\n",
      "Observation  [0.0, 0.0, 0.0]\n",
      "[0, 1]\n",
      "Total reward 10.940570130271364\n",
      "Steps 19\n",
      "Observation  [0.0, 0.0, 0.0]\n",
      "[0, 1]\n",
      "Total reward 11.010276279656974\n",
      "Steps 20\n",
      "Observation  [0.0, 0.0, 0.0]\n",
      "[0, 1]\n",
      "Total reward 11.918108021415177\n",
      "Total Reward : 11.9181\n"
     ]
    }
   ],
   "source": [
    "if __name__== \"__main__\":\n",
    "        env = SampleEnvironment()\n",
    "        agent = Agent()\n",
    "        i=0\n",
    "        \n",
    "        while not env.is_done():\n",
    "            i = i+1\n",
    "            print(\"Steps {}\".format(i))\n",
    "            agent.step(env)\n",
    "            \n",
    "        print(\"Total Reward : %.4f\"%agent.total_reward)"
   ]
  },
  {
   "cell_type": "code",
   "execution_count": null,
   "id": "b1fd04c9",
   "metadata": {},
   "outputs": [],
   "source": []
  }
 ],
 "metadata": {
  "kernelspec": {
   "display_name": "Python 3 (ipykernel)",
   "language": "python",
   "name": "python3"
  },
  "language_info": {
   "codemirror_mode": {
    "name": "ipython",
    "version": 3
   },
   "file_extension": ".py",
   "mimetype": "text/x-python",
   "name": "python",
   "nbconvert_exporter": "python",
   "pygments_lexer": "ipython3",
   "version": "3.10.8"
  }
 },
 "nbformat": 4,
 "nbformat_minor": 5
}
